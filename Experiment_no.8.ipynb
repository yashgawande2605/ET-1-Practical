{
 "cells": [
  {
   "cell_type": "markdown",
   "id": "36e36130-372e-4279-a1ed-f3d2e2b7be1c",
   "metadata": {},
   "source": [
    "# Central Tendency of Measures"
   ]
  },
  {
   "cell_type": "code",
   "execution_count": 2,
   "id": "16754436-a19c-4e59-bc77-3e7a7951f4e4",
   "metadata": {},
   "outputs": [],
   "source": [
    "#Name: Yash Ravindra Gawande\n",
    "#Roll no. : 37 \n",
    "#Sec: 3rd A\n",
    "#Sub : ET 1 \n",
    "#Date:03/08/2024"
   ]
  },
  {
   "cell_type": "code",
   "execution_count": 4,
   "id": "ce90d406-fd7c-4fad-a186-b508725c41f7",
   "metadata": {},
   "outputs": [],
   "source": [
    "# Aim: To perform central tendancy of measures "
   ]
  },
  {
   "cell_type": "code",
   "execution_count": 8,
   "id": "cad8cc95-abfb-4985-9cd9-fbed9e57fe7f",
   "metadata": {},
   "outputs": [],
   "source": [
    "age=[21,21,22,23,22,21,23,21,21,21,22,23,22,21,23,21,21,21,22,23,22]"
   ]
  },
  {
   "cell_type": "code",
   "execution_count": 10,
   "id": "2bb9a094-b749-4012-a2b5-b91960f570ad",
   "metadata": {},
   "outputs": [
    {
     "data": {
      "text/plain": [
       "[21,\n",
       " 21,\n",
       " 22,\n",
       " 23,\n",
       " 22,\n",
       " 21,\n",
       " 23,\n",
       " 21,\n",
       " 21,\n",
       " 21,\n",
       " 22,\n",
       " 23,\n",
       " 22,\n",
       " 21,\n",
       " 23,\n",
       " 21,\n",
       " 21,\n",
       " 21,\n",
       " 22,\n",
       " 23,\n",
       " 22]"
      ]
     },
     "execution_count": 10,
     "metadata": {},
     "output_type": "execute_result"
    }
   ],
   "source": [
    "age"
   ]
  },
  {
   "cell_type": "code",
   "execution_count": 12,
   "id": "d94e92cd-3b53-43ad-9eb2-e3782b3a5ed2",
   "metadata": {},
   "outputs": [],
   "source": [
    "import statistics "
   ]
  },
  {
   "cell_type": "code",
   "execution_count": 14,
   "id": "dfb8041f-77e2-41a3-a93b-70aa33e42bf0",
   "metadata": {},
   "outputs": [],
   "source": [
    "MEAN=statistics.mean(Age) "
   ]
  },
  {
   "cell_type": "code",
   "execution_count": 17,
   "id": "d83a1269-c06c-4ce1-aeb5-681d03b866c9",
   "metadata": {},
   "outputs": [
    {
     "data": {
      "text/plain": [
       "21.761904761904763"
      ]
     },
     "execution_count": 17,
     "metadata": {},
     "output_type": "execute_result"
    }
   ],
   "source": [
    "MEAN"
   ]
  },
  {
   "cell_type": "code",
   "execution_count": 19,
   "id": "4f16e043-ba4b-4a04-8b86-97523b8ca6e5",
   "metadata": {},
   "outputs": [],
   "source": [
    "MEDIAN=statistics.median(Age) "
   ]
  },
  {
   "cell_type": "code",
   "execution_count": 21,
   "id": "009b6cf8-37a7-4a31-bfc1-7ab4fa9d9822",
   "metadata": {},
   "outputs": [
    {
     "data": {
      "text/plain": [
       "22"
      ]
     },
     "execution_count": 21,
     "metadata": {},
     "output_type": "execute_result"
    }
   ],
   "source": [
    "MEDIAN"
   ]
  },
  {
   "cell_type": "code",
   "execution_count": 23,
   "id": "541c7e4a-a6f2-4fc3-b485-0989d737ac6a",
   "metadata": {},
   "outputs": [],
   "source": [
    "MODE=statistics.mode(Age) "
   ]
  },
  {
   "cell_type": "code",
   "execution_count": 25,
   "id": "f2a8b7a8-6f82-4060-b30a-bf3166800c4e",
   "metadata": {},
   "outputs": [
    {
     "data": {
      "text/plain": [
       "21"
      ]
     },
     "execution_count": 25,
     "metadata": {},
     "output_type": "execute_result"
    }
   ],
   "source": [
    "MODE"
   ]
  },
  {
   "cell_type": "code",
   "execution_count": null,
   "id": "3ba2bd49-1020-4345-956b-9cf7858384a3",
   "metadata": {},
   "outputs": [],
   "source": []
  }
 ],
 "metadata": {
  "kernelspec": {
   "display_name": "Python 3 (ipykernel)",
   "language": "python",
   "name": "python3"
  },
  "language_info": {
   "codemirror_mode": {
    "name": "ipython",
    "version": 3
   },
   "file_extension": ".py",
   "mimetype": "text/x-python",
   "name": "python",
   "nbconvert_exporter": "python",
   "pygments_lexer": "ipython3",
   "version": "3.12.4"
  }
 },
 "nbformat": 4,
 "nbformat_minor": 5
}
