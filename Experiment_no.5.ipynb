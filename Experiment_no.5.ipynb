{
 "cells": [
  {
   "cell_type": "markdown",
   "id": "6861bca1-6a0b-43e4-8e54-890aad194840",
   "metadata": {},
   "source": [
    "# Creation of  Array"
   ]
  },
  {
   "cell_type": "code",
   "execution_count": 2,
   "id": "42d0bf39-c842-48bd-ac46-f4908c443670",
   "metadata": {},
   "outputs": [],
   "source": [
    "#Name: Yash Ravindra Gawande\n",
    "#Roll no. : 37 \n",
    "#Sec: 3rd A\n",
    "#Sub : ET 1 \n",
    "#Date:27/07/2024"
   ]
  },
  {
   "cell_type": "code",
   "execution_count": 4,
   "id": "518229f3-8149-4f5e-be65-d604b1be8650",
   "metadata": {},
   "outputs": [],
   "source": [
    "#Aim:Creation of 1D, 2D and multidimensional array (Data cube/OLAP)using numpy."
   ]
  },
  {
   "cell_type": "code",
   "execution_count": 6,
   "id": "f5b9acff-df85-4a32-a543-20e393e9bfb0",
   "metadata": {},
   "outputs": [],
   "source": [
    "import numpy as np"
   ]
  },
  {
   "cell_type": "code",
   "execution_count": 8,
   "id": "077d6d38-7e4f-4533-888a-0b32ec1d6374",
   "metadata": {},
   "outputs": [],
   "source": [
    "a1=np.array([50,60,30,80,20,90])"
   ]
  },
  {
   "cell_type": "code",
   "execution_count": 10,
   "id": "20050e0b-de84-4297-be43-98d9102978b9",
   "metadata": {},
   "outputs": [
    {
     "data": {
      "text/plain": [
       "array([50, 60, 30, 80, 20, 90])"
      ]
     },
     "execution_count": 10,
     "metadata": {},
     "output_type": "execute_result"
    }
   ],
   "source": [
    "a1"
   ]
  },
  {
   "cell_type": "code",
   "execution_count": 16,
   "id": "6e6d3f75-c27e-4f26-b66b-f5dbdf203c2f",
   "metadata": {},
   "outputs": [],
   "source": [
    "a2=np.array([[50,60,30,80,20,90],[10,40,60,70,80,90]])"
   ]
  },
  {
   "cell_type": "code",
   "execution_count": 18,
   "id": "92dd3fe5-f0bd-4a28-89ad-5c9d3a24193a",
   "metadata": {},
   "outputs": [
    {
     "data": {
      "text/plain": [
       "array([[50, 60, 30, 80, 20, 90],\n",
       "       [10, 40, 60, 70, 80, 90]])"
      ]
     },
     "execution_count": 18,
     "metadata": {},
     "output_type": "execute_result"
    }
   ],
   "source": [
    "a2"
   ]
  },
  {
   "cell_type": "code",
   "execution_count": 20,
   "id": "882bb66a-6907-4c7f-914b-02f15e156496",
   "metadata": {},
   "outputs": [],
   "source": [
    "a3=np.array([['P1','P2','P3','P4'],['AAA','BBB','CCC','DDD'],[10,20,30,40]])"
   ]
  },
  {
   "cell_type": "code",
   "execution_count": 22,
   "id": "5a81d8ed-6dba-4ff5-aed0-59b819deceff",
   "metadata": {},
   "outputs": [
    {
     "data": {
      "text/plain": [
       "array([['P1', 'P2', 'P3', 'P4'],\n",
       "       ['AAA', 'BBB', 'CCC', 'DDD'],\n",
       "       ['10', '20', '30', '40']], dtype='<U11')"
      ]
     },
     "execution_count": 22,
     "metadata": {},
     "output_type": "execute_result"
    }
   ],
   "source": [
    "a3"
   ]
  },
  {
   "cell_type": "code",
   "execution_count": null,
   "id": "ccaa012c-45b2-4d77-8ad6-d42f6d9753b5",
   "metadata": {},
   "outputs": [],
   "source": []
  }
 ],
 "metadata": {
  "kernelspec": {
   "display_name": "Python 3 (ipykernel)",
   "language": "python",
   "name": "python3"
  },
  "language_info": {
   "codemirror_mode": {
    "name": "ipython",
    "version": 3
   },
   "file_extension": ".py",
   "mimetype": "text/x-python",
   "name": "python",
   "nbconvert_exporter": "python",
   "pygments_lexer": "ipython3",
   "version": "3.12.4"
  }
 },
 "nbformat": 4,
 "nbformat_minor": 5
}
